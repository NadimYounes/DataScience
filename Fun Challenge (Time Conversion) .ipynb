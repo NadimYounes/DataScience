{
 "cells": [
  {
   "cell_type": "markdown",
   "metadata": {},
   "source": [
    "Online Python Challenge\n",
    "\n",
    "Given a time in -hour AM/PM format, convert it to military (24-hour) time.\n",
    "\n",
    "Note: Midnight is 12:00:00AM on a 12-hour clock, and 00:00:00 on a 24-hour clock. Noon is 12:00:00PM on a 12-hour clock, and 12:00:00 on a 24-hour clock."
   ]
  },
  {
   "cell_type": "code",
   "execution_count": 5,
   "metadata": {},
   "outputs": [],
   "source": [
    "def TimeConverter(x):\n",
    "    if x[0:2]=='12'and x[8:10]=='AM':\n",
    "        return(x.replace(str(x[0:2]),'00')).replace('AM','')\n",
    "    elif x[0:2]=='12' and x[8:10]=='PM':\n",
    "        return(x.replace(str(x[8:10]),''))\n",
    "    elif x[8:10]=='PM':\n",
    "        y = x.replace(str(x[0:2]),str(int((x[0:2]))+12))\n",
    "        z = y.replace(str(y[8:10]),'')\n",
    "        return z\n",
    "    elif x[8:10]=='AM':\n",
    "        p = x.replace(str(x[8:10]),'')\n",
    "        return p\n",
    "    elif x[0:2]=='12'and x[8:10]=='AM':\n",
    "        return(x.replace(str(x[0:2]),'00'))"
   ]
  },
  {
   "cell_type": "markdown",
   "metadata": {},
   "source": [
    "Testing it Out "
   ]
  },
  {
   "cell_type": "code",
   "execution_count": 7,
   "metadata": {
    "scrolled": true
   },
   "outputs": [
    {
     "name": "stdout",
     "output_type": "stream",
     "text": [
      "12:05:39\n",
      "21:05:57\n"
     ]
    }
   ],
   "source": [
    "x= '12:05:39PM'\n",
    "print(func(x))\n",
    "y = '09:05:57PM'\n",
    "print(func(y))"
   ]
  }
 ],
 "metadata": {
  "kernelspec": {
   "display_name": "Python 3",
   "language": "python",
   "name": "python3"
  },
  "language_info": {
   "codemirror_mode": {
    "name": "ipython",
    "version": 3
   },
   "file_extension": ".py",
   "mimetype": "text/x-python",
   "name": "python",
   "nbconvert_exporter": "python",
   "pygments_lexer": "ipython3",
   "version": "3.5.5"
  },
  "widgets": {
   "state": {},
   "version": "1.1.2"
  }
 },
 "nbformat": 4,
 "nbformat_minor": 2
}
